{
 "cells": [
  {
   "cell_type": "code",
   "execution_count": 1,
   "id": "b513dcb9-49c3-4959-9fe2-0cb524333dca",
   "metadata": {},
   "outputs": [],
   "source": [
    "import pandas as pd\n",
    "import openai\n",
    "import random\n",
    "import ast\n",
    "import os\n",
    "import re\n",
    "safe_globals = {\"__builtins__\": {}}\n",
    "import requests\n",
    "import json\n",
    "import anthropic"
   ]
  },
  {
   "cell_type": "code",
   "execution_count": 2,
   "id": "c64c660f-c12d-456a-9348-175ddb5d85f0",
   "metadata": {},
   "outputs": [],
   "source": [
    "client = anthropic.Anthropic(api_key=\"\")"
   ]
  },
  {
   "cell_type": "code",
   "execution_count": 3,
   "id": "7ee86984-b9af-4bee-9244-b85673683269",
   "metadata": {},
   "outputs": [],
   "source": [
    "data = pd.read_csv(\"../../Data/commonsense_qa.csv\")\n",
    "result = {}\n",
    "error_list = []\n",
    "user_temperature = 0.1"
   ]
  },
  {
   "cell_type": "code",
   "execution_count": 4,
   "id": "0280a471-ed31-46c6-9410-62896ed1f0d2",
   "metadata": {},
   "outputs": [],
   "source": [
    "answer_options_formatted = []\n",
    "for i in data['choices']:\n",
    "    input_cleaned = re.sub(r\"array\\(\\s*\\[(.*?)\\]\\s*,\\s*dtype=object\\)\", r\"[\\1]\", i, flags=re.DOTALL)\n",
    "    try:\n",
    "        extracted_dict = eval(input_cleaned, safe_globals)\n",
    "        labels = extracted_dict.get('label', [])\n",
    "        texts = extracted_dict.get('text', [])\n",
    "        if len(labels) == len(texts):\n",
    "            formatted_output = '\\n'.join([f\"{label}: {text}\" for label, text in zip(labels, texts)])\n",
    "            answer_options_formatted.append(formatted_output)\n",
    "        else:\n",
    "            print(f\"Skipping row due to mismatched lengths or missing data: {input_cleaned}\")\n",
    "    \n",
    "    except (SyntaxError, NameError, TypeError) as e:\n",
    "        print(f\"Error parsing row: {input_cleaned}\\nError details: {e}\")"
   ]
  },
  {
   "cell_type": "code",
   "execution_count": 5,
   "id": "ac3a048e-445b-4f37-b0f4-ae4721bf4900",
   "metadata": {},
   "outputs": [],
   "source": [
    "data['answer_options_formatted'] = answer_options_formatted"
   ]
  },
  {
   "cell_type": "code",
   "execution_count": 6,
   "id": "cefe08d0-f20c-4a28-9bd6-dc5059ec1edd",
   "metadata": {},
   "outputs": [],
   "source": [
    "data['answer'] = data['answerKey'].replace({'A': 0, 'B': 1, 'C': 2, 'D': 3})"
   ]
  },
  {
   "cell_type": "code",
   "execution_count": 7,
   "id": "72baecbd-5c55-4ed7-a9da-21b758911e6c",
   "metadata": {},
   "outputs": [],
   "source": [
    "choice_list = list()\n",
    "for i in data['answer_options_formatted']:\n",
    "    output_list = [line.split(': ', 1)[1] for line in i.splitlines()]\n",
    "    choice_list.append(output_list)"
   ]
  },
  {
   "cell_type": "code",
   "execution_count": 8,
   "id": "a07ac34c-4873-4769-a8a3-f7112cc21dfc",
   "metadata": {},
   "outputs": [],
   "source": [
    "data['choices'] = choice_list"
   ]
  },
  {
   "cell_type": "code",
   "execution_count": 9,
   "id": "0d11614d-7bb3-455a-992f-55efbbd50fff",
   "metadata": {},
   "outputs": [],
   "source": [
    "l = data['choices'].tolist()\n",
    "data['choices_copy'] = l"
   ]
  },
  {
   "cell_type": "code",
   "execution_count": 10,
   "id": "b2353551-ed92-4c12-90d6-dcb951ba81ca",
   "metadata": {},
   "outputs": [],
   "source": [
    "def mask_choice(choice_list, correct_index):\n",
    "    choice_list_copy = choice_list[:]\n",
    "    masked_options = []\n",
    "    incorrect_indices = [i for i in range(len(choice_list_copy)) if i != correct_index]\n",
    "    \n",
    "    if incorrect_indices:\n",
    "        mask_index_1 = random.choice(incorrect_indices)\n",
    "        masked_options.append(choice_list_copy[mask_index_1])  \n",
    "        choice_list_copy[mask_index_1] = \"\"  \n",
    "        incorrect_indices.remove(mask_index_1)  \n",
    "    \n",
    "    return choice_list_copy, masked_options"
   ]
  },
  {
   "cell_type": "code",
   "execution_count": 11,
   "id": "85100682-2dfc-452b-b509-a70073c512a1",
   "metadata": {},
   "outputs": [],
   "source": [
    "data[['choices_copy', 'masked_options']] = data.apply(\n",
    "    lambda row: pd.Series(mask_choice(row['choices_copy'], row['answer'])), axis=1\n",
    ")"
   ]
  },
  {
   "cell_type": "code",
   "execution_count": 12,
   "id": "ac952982-71a9-4cc8-9e2e-bcef4f1e9a97",
   "metadata": {},
   "outputs": [],
   "source": [
    "def format_question_answer(row):\n",
    "    question = f\"Question: {row['question']}\\nAnswer:\\n\"\n",
    "    \n",
    "    choices = row['choices_copy']\n",
    "    options_text = [\n",
    "        f\"A: {str(choices[0]) if len(choices) > 0 else ''}\",\n",
    "        f\"B: {str(choices[1]) if len(choices) > 1 else ''}\",\n",
    "        f\"C: {str(choices[2]) if len(choices) > 2 else ''}\",\n",
    "        f\"D: {str(choices[3]) if len(choices) > 3 else ''}\",\n",
    "        f\"E: {str(choices[4]) if len(choices) > 4 else ''}\"\n",
    "    ]\n",
    "    answer_options = \"\\n\".join(options_text)\n",
    "    \n",
    "    return question + answer_options"
   ]
  },
  {
   "cell_type": "code",
   "execution_count": 13,
   "id": "3516f847-117e-419b-a87f-c5725a35c22f",
   "metadata": {},
   "outputs": [],
   "source": [
    "data['question_answer'] = data.apply(format_question_answer, axis=1)"
   ]
  },
  {
   "cell_type": "code",
   "execution_count": 14,
   "id": "762616a9-fe78-474e-8f99-3a94e6816379",
   "metadata": {},
   "outputs": [
    {
     "data": {
      "text/plain": [
       "\"Question: Miranda wasn't sure about what she was doing, she just knew that she couldn't stop moving her smelly feet. This was a problem, because she was told to do what?\\nAnswer:\\nA: shoes\\nB: stay still\\nC: hands\\nD: \\nE: stink\""
      ]
     },
     "execution_count": 14,
     "metadata": {},
     "output_type": "execute_result"
    }
   ],
   "source": [
    "data.question_answer.values[0]"
   ]
  },
  {
   "cell_type": "code",
   "execution_count": 15,
   "id": "6f7116f3-f8bd-4079-a2ef-8d258cd1f32d",
   "metadata": {},
   "outputs": [],
   "source": [
    "for index, row in data[:].iterrows():\n",
    "    prompt = f\"Complete the incomplete option in the answer to the question in one word: [{row['question_answer']}]. \\nReply the answer only, the option without the full sentence.\"\n",
    "    response = client.messages.create(\n",
    "        model=\"claude-3-5-sonnet-20241022\", \n",
    "        max_tokens=128,                    \n",
    "        messages=[\n",
    "            {\"role\": \"user\", \"content\": prompt}  \n",
    "        ]\n",
    "    )\n",
    "    response_text = ''.join([block.text for block in response.content])\n",
    "\n",
    "    result[row['question']] = response_text"
   ]
  },
  {
   "cell_type": "code",
   "execution_count": 16,
   "id": "c85c0300-a2d3-40ae-b368-258edcce51a1",
   "metadata": {},
   "outputs": [
    {
     "name": "stdout",
     "output_type": "stream",
     "text": [
      "Correct: learn, Masked option: learn\n",
      "Correct: maryland, Masked option: maryland\n",
      "Correct: michigan, Masked option: michigan\n",
      "Correct: painting, Masked option: painting\n"
     ]
    }
   ],
   "source": [
    "acc_icl = 0\n",
    "for index, row in data.iterrows():\n",
    "    if row['masked_options'] and row['masked_options'][0].lower() == result[row['question']].lower():\n",
    "        print(f\"Correct: {row['masked_options'][0].lower()}, Masked option: {result[row['question']].lower()}\")\n",
    "        acc_icl += 1"
   ]
  },
  {
   "cell_type": "code",
   "execution_count": 17,
   "id": "6f54fdba-cdec-439a-a00d-279b2e8b4218",
   "metadata": {},
   "outputs": [
    {
     "name": "stdout",
     "output_type": "stream",
     "text": [
      "The accuracy of Claude 3.5 sonnet to predict the missing option is: 4.0%\n"
     ]
    }
   ],
   "source": [
    "print(f\"The accuracy of Claude 3.5 sonnet to predict the missing option is: {round(acc_icl*100.0/len(result),2)}%\")"
   ]
  }
 ],
 "metadata": {
  "kernelspec": {
   "display_name": "Python (myenv)",
   "language": "python",
   "name": "myenv"
  },
  "language_info": {
   "codemirror_mode": {
    "name": "ipython",
    "version": 3
   },
   "file_extension": ".py",
   "mimetype": "text/x-python",
   "name": "python",
   "nbconvert_exporter": "python",
   "pygments_lexer": "ipython3",
   "version": "3.11.10"
  }
 },
 "nbformat": 4,
 "nbformat_minor": 5
}
