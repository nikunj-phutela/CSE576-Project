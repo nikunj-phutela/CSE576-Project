{
 "cells": [
  {
   "cell_type": "code",
   "execution_count": 1,
   "id": "b513dcb9-49c3-4959-9fe2-0cb524333dca",
   "metadata": {},
   "outputs": [],
   "source": [
    "import pandas as pd\n",
    "import openai\n",
    "import random\n",
    "import os"
   ]
  },
  {
   "cell_type": "code",
   "execution_count": 2,
   "id": "c64c660f-c12d-456a-9348-175ddb5d85f0",
   "metadata": {},
   "outputs": [],
   "source": [
    "openai.api_key = \"\""
   ]
  },
  {
   "cell_type": "code",
   "execution_count": 3,
   "id": "7ee86984-b9af-4bee-9244-b85673683269",
   "metadata": {},
   "outputs": [],
   "source": [
    "data = pd.read_csv(\"custom_mmlu.csv\")\n",
    "result = {}\n",
    "error_list = []\n",
    "user_temperature = 0.1"
   ]
  },
  {
   "cell_type": "code",
   "execution_count": 4,
   "id": "0b37dd25-f69c-4edc-ab98-625744e8699f",
   "metadata": {},
   "outputs": [],
   "source": [
    "data['answer_option'] = data['answer'].replace({0: 'A', 1: 'B', 2: 'C', 3:'D'})"
   ]
  },
  {
   "cell_type": "code",
   "execution_count": 5,
   "id": "ac45f224-0e7f-4227-be89-0e761d3ac2f6",
   "metadata": {},
   "outputs": [],
   "source": [
    "def parse_choices(choices_string):\n",
    "    choices_list = choices_string.strip(\"[]\").split(\" '\")\n",
    "    choices_list = [choice.replace(\"'\", \"\").strip() for choice in choices_list]\n",
    "    return choices_list"
   ]
  },
  {
   "cell_type": "code",
   "execution_count": 6,
   "id": "48f97eae-f1ef-45f7-8666-cea907555c41",
   "metadata": {},
   "outputs": [],
   "source": [
    "data['choices'] = data['choices'].apply(parse_choices)"
   ]
  },
  {
   "cell_type": "code",
   "execution_count": 7,
   "id": "d1ba693a-a8b8-4cd4-a04b-87bf036a8e2d",
   "metadata": {},
   "outputs": [],
   "source": [
    "l = data['choices'].tolist()\n",
    "data['choices_copy'] = l"
   ]
  },
  {
   "cell_type": "code",
   "execution_count": 8,
   "id": "bfbcaa3d-adce-495b-9cb4-b3541e6ada95",
   "metadata": {},
   "outputs": [
    {
     "data": {
      "text/plain": [
       "['spot desmosome', 'belt desmosome', 'gap junction', 'tight junction']"
      ]
     },
     "execution_count": 8,
     "metadata": {},
     "output_type": "execute_result"
    }
   ],
   "source": [
    "data.choices.values[0]"
   ]
  },
  {
   "cell_type": "code",
   "execution_count": 9,
   "id": "b2353551-ed92-4c12-90d6-dcb951ba81ca",
   "metadata": {},
   "outputs": [],
   "source": [
    "def mask_choice(choice_list, correct_index):\n",
    "    choice_list_copy = choice_list[:]\n",
    "    masked_options = []\n",
    "    incorrect_indices = [i for i in range(len(choice_list_copy)) if i != correct_index]\n",
    "    \n",
    "    if incorrect_indices:\n",
    "        mask_index_1 = random.choice(incorrect_indices)\n",
    "        masked_options.append(choice_list_copy[mask_index_1])  \n",
    "        choice_list_copy[mask_index_1] = \"\"  \n",
    "        incorrect_indices.remove(mask_index_1)  \n",
    "    \n",
    "    return choice_list_copy, masked_options"
   ]
  },
  {
   "cell_type": "code",
   "execution_count": 10,
   "id": "3f56218a-49eb-4d97-89ce-d9cf29964e08",
   "metadata": {},
   "outputs": [],
   "source": [
    "# Apply the function to each row and store results in choices_copy without affecting choices\n",
    "data[['choices_copy', 'masked_options']] = data.apply(\n",
    "    lambda row: pd.Series(mask_choice(row['choices_copy'], row['answer'])), axis=1\n",
    ")"
   ]
  },
  {
   "cell_type": "code",
   "execution_count": 11,
   "id": "ac952982-71a9-4cc8-9e2e-bcef4f1e9a97",
   "metadata": {},
   "outputs": [],
   "source": [
    "def format_question_answer(row):\n",
    "    question = f\"Question: {row['question']}\\nAnswer:\\n\"\n",
    "    \n",
    "    choices = row['choices_copy']\n",
    "    options_text = [\n",
    "        f\"A: {str(choices[0]) if len(choices) > 0 else ''}\",\n",
    "        f\"B: {str(choices[1]) if len(choices) > 1 else ''}\",\n",
    "        f\"C: {str(choices[2]) if len(choices) > 2 else ''}\",\n",
    "        f\"D: {str(choices[3]) if len(choices) > 3 else ''}\"\n",
    "    ]\n",
    "    answer_options = \"\\n\".join(options_text)\n",
    "    \n",
    "    return question + answer_options"
   ]
  },
  {
   "cell_type": "code",
   "execution_count": 12,
   "id": "3516f847-117e-419b-a87f-c5725a35c22f",
   "metadata": {},
   "outputs": [],
   "source": [
    "data['question_answer'] = data.apply(format_question_answer, axis=1)"
   ]
  },
  {
   "cell_type": "code",
   "execution_count": 13,
   "id": "6f7116f3-f8bd-4079-a2ef-8d258cd1f32d",
   "metadata": {},
   "outputs": [],
   "source": [
    "for index, row in data[:].iterrows():\n",
    "    prompt = f\"Complete the incomplete option in the answer to the question in one word: [{row['question_answer']}]. \\nReply the answer only, the option without the full sentence.\"\n",
    "    completion = openai.ChatCompletion.create(\n",
    "        model=\"gpt-3.5-turbo\",\n",
    "        messages=[\n",
    "            {\"role\": \"user\", \"content\":prompt}\n",
    "        ],\n",
    "        temperature = user_temperature,\n",
    "        max_tokens = 128\n",
    "    )\n",
    "    response = completion[\"choices\"][0][\"message\"][\"content\"].replace('\\n', ' ')\n",
    "    result[row['question']] = response"
   ]
  },
  {
   "cell_type": "code",
   "execution_count": 14,
   "id": "c85c0300-a2d3-40ae-b368-258edcce51a1",
   "metadata": {},
   "outputs": [
    {
     "name": "stdout",
     "output_type": "stream",
     "text": [
      "Correct: india, Masked option: india\n"
     ]
    }
   ],
   "source": [
    "acc_icl = 0\n",
    "for index, row in data.iterrows():\n",
    "    if row['masked_options'] and row['masked_options'][0].lower() == result[row['question']].lower():\n",
    "        print(f\"Correct: {row['masked_options'][0].lower()}, Masked option: {result[row['question']].lower()}\")\n",
    "        acc_icl += 1"
   ]
  },
  {
   "cell_type": "code",
   "execution_count": 15,
   "id": "6f54fdba-cdec-439a-a00d-279b2e8b4218",
   "metadata": {},
   "outputs": [
    {
     "name": "stdout",
     "output_type": "stream",
     "text": [
      "The accuracy of GPT-3.5 turbo to predict the missing option is: 1.0%\n"
     ]
    }
   ],
   "source": [
    "print(f\"The accuracy of GPT-3.5 turbo to predict the missing option is: {round(acc_icl*100.0/len(result),2)}%\")"
   ]
  }
 ],
 "metadata": {
  "kernelspec": {
   "display_name": "Python (myenv)",
   "language": "python",
   "name": "myenv"
  },
  "language_info": {
   "codemirror_mode": {
    "name": "ipython",
    "version": 3
   },
   "file_extension": ".py",
   "mimetype": "text/x-python",
   "name": "python",
   "nbconvert_exporter": "python",
   "pygments_lexer": "ipython3",
   "version": "3.11.10"
  }
 },
 "nbformat": 4,
 "nbformat_minor": 5
}
