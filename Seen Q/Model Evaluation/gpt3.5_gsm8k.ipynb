{
 "cells": [
  {
   "cell_type": "code",
   "execution_count": null,
   "metadata": {},
   "outputs": [],
   "source": [
    "import pandas as pd\n",
    "import openai\n",
    "import random\n",
    "import os"
   ]
  },
  {
   "cell_type": "code",
   "execution_count": null,
   "metadata": {},
   "outputs": [],
   "source": [
    "openai.api_key = \"\""
   ]
  },
  {
   "cell_type": "code",
   "execution_count": null,
   "metadata": {},
   "outputs": [],
   "source": [
    "data = pd.read_csv(\"../Data/gsm8k.csv\")\n",
    "\n",
    "result = {}\n",
    "error_list = []\n",
    "user_temperature = 0.1"
   ]
  },
  {
   "cell_type": "code",
   "execution_count": null,
   "metadata": {},
   "outputs": [],
   "source": [
    "data = data.head(200)"
   ]
  },
  {
   "cell_type": "code",
   "execution_count": null,
   "metadata": {},
   "outputs": [],
   "source": [
    "data"
   ]
  },
  {
   "cell_type": "code",
   "execution_count": null,
   "metadata": {},
   "outputs": [],
   "source": [
    "for index, row in data[:].iterrows():\n",
    "    url = (data[data['Question'] == row['original_question']]).iloc[0,-1]\n",
    "    if isinstance(url, str):\n",
    "        url = url.replace(row['answer'],\"\")\n",
    "        url = url.replace(row['answer'].lower(),\"\")\n",
    "        url = url.replace(row['answer'].capitalize(),\"\")\n",
    "    prompt = f\"Complete the sentence according to the hint in one word: [{row['question']}]. Hint:[{url}]. Reply the answer only in one word without full sentence.\"\n",
    "    print(str(index)+\": \"+ prompt)\n",
    "    completion = openai.ChatCompletion.create(\n",
    "        model=\"gpt-3.5-turbo\",\n",
    "        messages=[\n",
    "            {\"role\": \"user\", \"content\":prompt}\n",
    "        ],\n",
    "        temperature = user_temperature,\n",
    "        max_tokens = 128\n",
    "    )\n",
    "    response = completion[\"choices\"][0][\"message\"][\"content\"].replace('\\n', ' ')\n",
    "    result[row['question']] = response"
   ]
  },
  {
   "cell_type": "code",
   "execution_count": null,
   "metadata": {},
   "outputs": [],
   "source": [
    "acc_icl = 0\n",
    "for index, row in data.iterrows():\n",
    "    if(row['answer'].lower()==result[row['question']].lower()):\n",
    "        print(row['question']+\"   \"+row['answer'] + \" \" +(original_data[original_data['Question'] == row['original_question']]).iloc[0,-1])\n",
    "        acc_icl += 1"
   ]
  },
  {
   "cell_type": "code",
   "execution_count": null,
   "metadata": {},
   "outputs": [],
   "source": [
    "print(f\"The accuracy of GPT-3.5 turbo to predict the missing word in the question is: {round(acc_icl*100.0/len(result),2)}%\")"
   ]
  },
  {
   "cell_type": "code",
   "execution_count": null,
   "metadata": {},
   "outputs": [],
   "source": [
    "import json\n",
    "file_path = \"./results/mine/gpt-35_1_url_hint.json\"\n",
    "with open(file_path, \"w\") as json_file:\n",
    "    json.dump(result, json_file)"
   ]
  }
 ],
 "metadata": {
  "kernelspec": {
   "display_name": "Python (myenv)",
   "language": "python",
   "name": "myenv"
  },
  "language_info": {
   "codemirror_mode": {
    "name": "ipython",
    "version": 3
   },
   "file_extension": ".py",
   "mimetype": "text/x-python",
   "name": "python",
   "nbconvert_exporter": "python",
   "pygments_lexer": "ipython3",
   "version": "3.11.10"
  }
 },
 "nbformat": 4,
 "nbformat_minor": 4
}
