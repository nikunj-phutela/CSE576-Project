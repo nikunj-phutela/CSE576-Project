{
 "cells": [
  {
   "cell_type": "code",
   "execution_count": 1,
   "metadata": {},
   "outputs": [],
   "source": [
    "import pandas as pd\n",
    "import openai\n",
    "import random\n",
    "import requests\n",
    "import json\n",
    "import anthropic"
   ]
  },
  {
   "cell_type": "code",
   "execution_count": 2,
   "metadata": {},
   "outputs": [],
   "source": [
    "client = anthropic.Anthropic(api_key=\"\")"
   ]
  },
  {
   "cell_type": "code",
   "execution_count": 3,
   "metadata": {},
   "outputs": [],
   "source": [
    "data = pd.read_csv(\"../../Data/masked_gsm8k.csv\")\n",
    "\n",
    "result = {}\n",
    "error_list = []\n",
    "user_temperature = 0.1"
   ]
  },
  {
   "cell_type": "code",
   "execution_count": null,
   "metadata": {},
   "outputs": [],
   "source": [
    "result = {}\n",
    "for index, row in data[:].iterrows():\n",
    "    prompt = f\"Complete the sentence according to the hint in one word: [{row['masked_question']}]. Reply the answer only in one word without full sentence.\"\n",
    "    print(f\"{index}: {prompt}\")\n",
    "    response = client.messages.create(\n",
    "        model=\"claude-3-5-sonnet-20241022\", \n",
    "        max_tokens=128,                    \n",
    "        messages=[\n",
    "            {\"role\": \"user\", \"content\": prompt}  \n",
    "        ]\n",
    "    )\n",
    "\n",
    "    response_text = ''.join([block.text for block in response.content])\n",
    "\n",
    "    result[row['question']] = response_text"
   ]
  },
  {
   "cell_type": "code",
   "execution_count": 6,
   "metadata": {},
   "outputs": [
    {
     "name": "stdout",
     "output_type": "stream",
     "text": [
      "Correct word: pair, Predicted: pair\n",
      "Correct word: road, Predicted: road\n",
      "Correct word: week, Predicted: week\n",
      "Correct word: ticket, Predicted: ticket\n",
      "Correct word: points, Predicted: points\n",
      "Correct word: sandwiches, Predicted: sandwiches\n",
      "Correct word: gummies, Predicted: gummies\n",
      "Correct word: entrance, Predicted: entrance\n",
      "Correct word: living, Predicted: living\n",
      "Correct word: sons, Predicted: sons\n",
      "Correct word: minutes, Predicted: minutes\n",
      "Correct word: weeks, Predicted: weeks\n",
      "Correct word: basketball, Predicted: basketball\n",
      "Correct word: profit, Predicted: profit\n",
      "Correct word: temperature, Predicted: temperature\n",
      "Correct word: grams, Predicted: grams\n",
      "Correct word: gems, Predicted: gems\n",
      "Correct word: men, Predicted: men\n",
      "Correct word: musicians, Predicted: musicians\n",
      "Correct word: wave, Predicted: wave\n",
      "Correct word: times, Predicted: times\n",
      "Correct word: hula, Predicted: hula\n",
      "Correct word: weight, Predicted: weight\n",
      "Correct word: books, Predicted: books\n",
      "Correct word: tip, Predicted: tip\n",
      "Correct word: minutes, Predicted: minutes\n",
      "Correct word: ounces, Predicted: ounces\n",
      "Correct word: representative, Predicted: representative\n",
      "Correct word: store, Predicted: store\n",
      "Correct word: store, Predicted: store\n",
      "Correct word: bags, Predicted: bags\n",
      "Correct word: packages, Predicted: packages\n",
      "Correct word: third, Predicted: third\n",
      "Correct word: week, Predicted: week\n",
      "Correct word: essay, Predicted: essay\n",
      "Correct word: sweaters, Predicted: sweaters\n",
      "Correct word: cookies, Predicted: cookies\n",
      "Correct word: choir, Predicted: choir\n",
      "Correct word: store, Predicted: store\n",
      "Correct word: minutes, Predicted: minutes\n",
      "Correct word: beds, Predicted: beds\n",
      "Correct word: hour, Predicted: hour\n",
      "Correct word: rows, Predicted: rows\n",
      "Correct word: tanks, Predicted: tanks\n",
      "Correct word: years, Predicted: years\n"
     ]
    }
   ],
   "source": [
    "acc_icl = 0\n",
    "for index, row in data.iterrows():\n",
    "    if(row['masked_word_answer'].lower()==result[row['question']].lower()):\n",
    "        print(f\"Correct word: {row['masked_word_answer'].lower()}, Predicted: {result[row['question']].lower()}\")\n",
    "        acc_icl += 1"
   ]
  },
  {
   "cell_type": "code",
   "execution_count": 7,
   "metadata": {},
   "outputs": [
    {
     "name": "stdout",
     "output_type": "stream",
     "text": [
      "The accuracy of Claude 3.5 sonnet to predict the missing word in the question is: 45.0%\n"
     ]
    }
   ],
   "source": [
    "print(f\"The accuracy of Claude 3.5 sonnet to predict the missing word in the question is: {round(acc_icl*100.0/len(result),2)}%\")"
   ]
  },
  {
   "cell_type": "code",
   "execution_count": 8,
   "metadata": {},
   "outputs": [],
   "source": [
    "import json\n",
    "file_path = \"../../../../Results/Seen Q/claude_3.5_sonnet_gsm8k.json\"\n",
    "with open(file_path, \"w\") as json_file:\n",
    "    json.dump(result, json_file)"
   ]
  }
 ],
 "metadata": {
  "kernelspec": {
   "display_name": "Python (myenv)",
   "language": "python",
   "name": "myenv"
  },
  "language_info": {
   "codemirror_mode": {
    "name": "ipython",
    "version": 3
   },
   "file_extension": ".py",
   "mimetype": "text/x-python",
   "name": "python",
   "nbconvert_exporter": "python",
   "pygments_lexer": "ipython3",
   "version": "3.11.10"
  }
 },
 "nbformat": 4,
 "nbformat_minor": 4
}
