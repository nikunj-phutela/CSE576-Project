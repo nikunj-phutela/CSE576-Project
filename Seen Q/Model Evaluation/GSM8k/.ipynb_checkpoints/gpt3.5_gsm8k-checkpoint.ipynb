{
 "cells": [
  {
   "cell_type": "code",
   "execution_count": 32,
   "metadata": {},
   "outputs": [],
   "source": [
    "import pandas as pd\n",
    "import openai\n",
    "import random\n",
    "import os"
   ]
  },
  {
   "cell_type": "code",
   "execution_count": 33,
   "metadata": {},
   "outputs": [],
   "source": [
    "openai.api_key = \"\""
   ]
  },
  {
   "cell_type": "code",
   "execution_count": 34,
   "metadata": {},
   "outputs": [],
   "source": [
    "data = pd.read_csv(\"../Data/masked_gsm8k.csv\")\n",
    "\n",
    "result = {}\n",
    "error_list = []\n",
    "user_temperature = 0.1"
   ]
  },
  {
   "cell_type": "code",
   "execution_count": 43,
   "metadata": {},
   "outputs": [
    {
     "name": "stdout",
     "output_type": "stream",
     "text": [
      "0: Complete the sentence in one word by replacing the word in (): [Youngsville had a population of 684 people.  The town had a growth () and the population increased by 25% then they witnessed that 40% of the population moved away.  What is the current population?]. Reply the answer only in one word without full sentence.\n",
      "1: Complete the sentence in one word by replacing the word in (): [Bill is stocking the kitchenware section of the Walmart. He needs to stack 60 pots. On each shelf, he can stack five pots vertically and three () of vertically stacked pots side-by-side. How many shelves does he need to stock all the pots?]. Reply the answer only in one word without full sentence.\n",
      "2: Complete the sentence in one word by replacing the word in (): [Cilia wants to buy a multi-level dumbbell system.  The first () of dumbbells are 3 lb weights, the second () is 5 lb weights and the third is 8 lb pounds.  How much does the entire system weigh?]. Reply the answer only in one word without full sentence.\n",
      "3: Complete the sentence in one word by replacing the word in (): [Lydia is planning a road trip with her family and is trying to plan a route. She has 60 liters of () and she will use all of this during her trip. She isn't sure how much () she is going to use in the first third of the trip but she knows she will need a third of all of her () for the second third of the trip, and half this amount for the final third of the trip. How much (), in liters, can Lydia use in the first third of the trip?]. Reply the answer only in one word without full sentence.\n",
      "4: Complete the sentence in one word by replacing the word in (): [Jack is stranded on a desert island. He wants some salt to season his (). He collects 2 liters of seawater in an old bucket. If the water is 20% salt, how many ml of salt will Jack get when all the water evaporates?]. Reply the answer only in one word without full sentence.\n",
      "5: Complete the sentence in one word by replacing the word in (): [Monroe has a collection of ants and a collection of spiders. He has 8 spiders and 12 ants. He is wondering what the () of legs of the entire collection is.]. Reply the answer only in one word without full sentence.\n",
      "6: Complete the sentence in one word by replacing the word in (): [John attends a protest for 4 ().  He then attends a second protest for 25% longer than the first.  How many () did he spend protesting?]. Reply the answer only in one word without full sentence.\n",
      "7: Complete the sentence in one word by replacing the word in (): [James buys 3 dirt bikes for $150 each and 4 off-() vehicles for $300 each.  It also cost him $25 to register each of these.  How much did he pay for everything?]. Reply the answer only in one word without full sentence.\n",
      "8: Complete the sentence in one word by replacing the word in (): [Two runners are competing in a 10-mile race.  The first runs at an average pace of 8 minutes per mile, while the second runs at an average pace of 7 minutes per mile.  After 56 minutes, the second runner stops for a () of water.  For how many minutes could the second runner remain stopped before the first runner catches up with him?]. Reply the answer only in one word without full sentence.\n",
      "9: Complete the sentence in one word by replacing the word in (): [Jason goes to the library 4 times more often than William goes. If William goes 2 times per () to the library, how many times does Jason go to the library in 4 ()s?]. Reply the answer only in one word without full sentence.\n",
      "10: Complete the sentence in one word by replacing the word in (): [When Matty was born, the cost of a () to Mars was $1,000,000. The cost is halved every 10 years. How much will a () cost when Matty is 30?]. Reply the answer only in one word without full sentence.\n",
      "11: Complete the sentence in one word by replacing the word in (): [In the first team, Beth scored 12 while Jan scored 10. In the second team, Judy scored 8 while Angel scored 11. How many more () did the first team get than the second team?]. Reply the answer only in one word without full sentence.\n",
      "12: Complete the sentence in one word by replacing the word in (): [Jackson’s mom packs him a peanut butter and jelly sandwich for his school lunch on Wednesdays and Fridays. There are 36 weeks of school and Jackson has only missed 1 Wednesday and 2 Fridays. How many peanut butter and jelly () did he eat for lunch this school year?]. Reply the answer only in one word without full sentence.\n",
      "13: Complete the sentence in one word by replacing the word in (): [Chastity bought 4 lollipops which cost $1.50 each, and she also bought 2 packs of () which cost $2 each. If she has $15, how much was she left with after spending on the candies?]. Reply the answer only in one word without full sentence.\n",
      "14: Complete the sentence in one word by replacing the word in (): [The local school is holding a big fair to raise money for 5 classes that want to go on a trip. 150 people came to the party and paid a total of $368 for () tickets. There was a raffle which brought in $343. The sale of cakes and drinks brought $279. At the end of the fair, the principal of the school shared the money raised between the 5 classes. How much money did each class receive?]. Reply the answer only in one word without full sentence.\n",
      "15: Complete the sentence in one word by replacing the word in (): [Tom decides to renovate a house.  There are 3 bedrooms and each bedroom takes 4 hours to renovate.  The kitchen takes 50% longer than each bedroom.  The () room took twice as much time as everything else combined.  How long did everything take?]. Reply the answer only in one word without full sentence.\n",
      "16: Complete the sentence in one word by replacing the word in (): [Sandro has six times as many daughters as (). If he currently has three (), how many children does he have?]. Reply the answer only in one word without full sentence.\n",
      "17: Complete the sentence in one word by replacing the word in (): [Jennifer is building tanks to hold her (). She built 3 tanks that will hold 15 fish each, heated, and filled them. She plans to build the rest of the tanks equipped with heaters, and they will hold 10 fish each. If she needs to build enough tanks to house a total of 75 fish, how many more will she need to build?]. Reply the answer only in one word without full sentence.\n",
      "18: Complete the sentence in one word by replacing the word in (): [September's temperature fluctuated severely in 1 week.  They started off with 40 () on Sunday then hit 50 on Monday, 65 on Tuesday, 36 on Wednesday, 82 on Thursday, 72 on Friday and ended the week at 26 on Saturday.  What was the average temperature for that week?]. Reply the answer only in one word without full sentence.\n",
      "19: Complete the sentence in one word by replacing the word in (): [Stella and Twinkle are filling up a () with a capacity of 6000 stone blocks at the rate of 250 blocks per hour per person. They work for four hours and are then joined by 6 other people who also work at the same rate. How many hours did filling the () take?]. Reply the answer only in one word without full sentence.\n",
      "20: Complete the sentence in one word by replacing the word in (): [Marla has to spend 20 () driving one way to her son's school, then 70 () attending parent-teacher night, then the same amount of time driving home. How many () does Marla spend on this errand in total?]. Reply the answer only in one word without full sentence.\n",
      "21: Complete the sentence in one word by replacing the word in (): [Jed collects stamp cards. Every week, he gets 6 cards. But every two (), he gives 2 cards to his friends. If Jed started with 20 cards, after how many () will he have a total of 40 cards?]. Reply the answer only in one word without full sentence.\n",
      "22: Complete the sentence in one word by replacing the word in (): [Tim buys 3 loaves of bread.  Each loaf of bread has 20 slices.  He pays for the 3 loaves of bread with 2 $20 bills.  He gets $16 change.  How much does each slice cost, in ()?]. Reply the answer only in one word without full sentence.\n",
      "23: Complete the sentence in one word by replacing the word in (): [John buys a heating pad for $30.  He ()s it 3 times a week for 2 weeks.  How much does he spend on each ()?]. Reply the answer only in one word without full sentence.\n",
      "24: Complete the sentence in one word by replacing the word in (): [Henry took 9 pills a day for 14 days. Of these 9 pills, 4 pills cost $1.50 each, and the other pills each cost $5.50 more. How much did he spend in () on the pills?]. Reply the answer only in one word without full sentence.\n",
      "25: Complete the sentence in one word by replacing the word in (): [Kamil wants to renovate his kitchen at home. For this purpose, he hired two professionals who work for him 6 ()s a day for 7 days. What does it cost Kamil to hire these professionals if one of them is paid $15 per () of work?]. Reply the answer only in one word without full sentence.\n",
      "26: Complete the sentence in one word by replacing the word in (): [Jeremy's uncle gave him $50 to spend on () equipment. He bought 5 jerseys that cost $2 each, a () that cost $18, and a pair of shorts that cost $8. How much money does Jeremy have left?]. Reply the answer only in one word without full sentence.\n",
      "27: Complete the sentence in one word by replacing the word in (): [Dorothy spent $53 to buy doughnut ingredients. If she made 25 doughnuts and sells each for $3, how much was her ()?]. Reply the answer only in one word without full sentence.\n",
      "28: Complete the sentence in one word by replacing the word in (): [Two days ago, the () in the morning went up 1.5 degrees every 2 hours. If the () was 50 degrees at 3 A.M., what was the () at 11 A.M.?]. Reply the answer only in one word without full sentence.\n",
      "29: Complete the sentence in one word by replacing the word in (): [James has five huskies, two pitbulls and four golden retrievers, all female. They became pregnant and each golden retriever had two more pups than each husky. If the huskies and pitbulls had 3 pups each, How many more pups than () dogs are there in total?]. Reply the answer only in one word without full sentence.\n",
      "30: Complete the sentence in one word by replacing the word in (): [Lucy has been trying new recipes and wants to make sure she keeps the cupboard stocked with ingredients. She had a 500g bag of flour in the cupboard at the start of the week. She used 240g when she baked cookies on Tuesday, and accidentally spilled half of what was left when she was putting the flour away. If Lucy wants a full bag of flour in the cupboard, how much flour does she need to buy, in ()?]. Reply the answer only in one word without full sentence.\n",
      "31: Complete the sentence in one word by replacing the word in (): [Tom originally was only able to lift 80  kg farmer handles per hand.  After some training, he was able to double this number.  He then decided to specialize and was able to get an extra 10%.  How much () can he hold in total?]. Reply the answer only in one word without full sentence.\n",
      "32: Complete the sentence in one word by replacing the word in (): [Jordan is a () goalie. In the first period of a game, he blocked four shots. In the second period, he blocked twice as many shots. In the third period, he blocked three fewer than in the second period. When the game ended after the fourth period, he had blocked 21 shots in all. How many did Jordan block in the fourth period?]. Reply the answer only in one word without full sentence.\n",
      "33: Complete the sentence in one word by replacing the word in (): [On Friday, Markeesha sold 30 boxes of () for her scout troop's fundraiser. On Saturday, she sold twice as many as on Friday. On Sunday, she sold 15 fewer than Saturday. How many boxes did she sell over the three days?]. Reply the answer only in one word without full sentence.\n",
      "34: Complete the sentence in one word by replacing the word in (): [Tom spends $250 to buy () in a game he plays.  The game gives 100 () for each dollar you spend.  Since he bought so many () he got a 20% bonus of more (). How many () did he end up with?]. Reply the answer only in one word without full sentence.\n",
      "35: Complete the sentence in one word by replacing the word in (): [How many apples did two () and three wo() buy at a certain store if the two () each bought 30 apples, 20 less than the number of apples bought by each woman?]. Reply the answer only in one word without full sentence.\n",
      "36: Complete the sentence in one word by replacing the word in (): [Luisa drives 10 miles to the grocery store, 6 miles to the (), 5 miles to the pet store, then 9 miles back home. One gallon of gas can be used to drive 15 miles. If one gallon of gas costs $3.50, what is the total cost of the gas for Luisa’s entire trip?]. Reply the answer only in one word without full sentence.\n",
      "37: Complete the sentence in one word by replacing the word in (): [Tony has a bucket that holds 2 pounds of sand. He has a () out back that is two feet deep, four feet wide, and 5 feet long. A cubic foot of sand weighs 3 pounds. Because it's hot outside, he wants to make sure he stays hydrated, so every 4 trips he takes he drinks 3 ounces of bottled water. A 15 ounce bottle of water costs $2. He has $10 with him. How much change will he have after he buys all the water he needs?]. Reply the answer only in one word without full sentence.\n",
      "38: Complete the sentence in one word by replacing the word in (): [If Brooke adds eight balloons to his current 12, and Tracy adds 24 to her current 6, how many balloons will they have in () if Tracy pops half of her balloons?]. Reply the answer only in one word without full sentence.\n",
      "39: Complete the sentence in one word by replacing the word in (): [There are 11 males & 12 females in the orchestra and twice that number in the band. There are 12 males & 17 females in the choir. If each musician only participates in one group, how many () total are there in the orchestra, the band, and the choir?]. Reply the answer only in one word without full sentence.\n",
      "40: Complete the sentence in one word by replacing the word in (): [Keanu was surfing towards the shore at a speed of 20 miles per hour.  A shark was swimming alongside him, riding the same (), when it doubled its speed and moved away from Keanu.  There was a pilot fish swimming alongside Keanu and the shark, and when the shark increased its speed, the pilot fish also increased its speed and moved away from Keanu, but only increasing its speed by half as much as the shark had increased its speed by.  What speed, in miles per hour, was the pilot fish swimming when it moved away from Keanu?]. Reply the answer only in one word without full sentence.\n",
      "41: Complete the sentence in one word by replacing the word in (): [A married couple and their 6 children are ordering some pizza. If the couple want 3 ()s each and the children want 1 () each, how many 4-() pizzas should they order?]. Reply the answer only in one word without full sentence.\n",
      "42: Complete the sentence in one word by replacing the word in (): [Nikola is saving up for a bag of ant food before he can start his ant farm. He wants 400 ants in his farm. Each ant needs 2 () of food. Every ounce of ant food costs $.1. Nikola is saving up by raking leaves. He charges $5 to start a job and then he charges by the leaf. Each leaf he rakes costs 1 penny. He finally saved up enough money after he raked 6,000 leaves. How many jobs did he complete?]. Reply the answer only in one word without full sentence.\n",
      "43: Complete the sentence in one word by replacing the word in (): [Tonya is buying Christmas gifts for her ()s. She has 2 ()s and wants to spend the exact same amount on each. She buys her younger () 4 dolls that cost $15 each. She plans to buy lego sets for her older (). They cost $20 each. How many lego sets does she buy?]. Reply the answer only in one word without full sentence.\n",
      "44: Complete the sentence in one word by replacing the word in (): [Timothy and Theresa go to the movies very often. Timothy went to the movies 7 more () in 2010 that he did in 2009. In 2009, Timothy went to the movies 24 (). In 2010 Theresa went to see twice as many movies as Timothy did, but in 2009, she only saw half as many as he did. How many movies did Timothy and Theresa go on in both 2009 and 2010?]. Reply the answer only in one word without full sentence.\n",
      "45: Complete the sentence in one word by replacing the word in (): [Galileo is currently renting a car that costs $20 per (). He is planning to buy a brand new car that costs $30 per (). If Galileo will have to pay for the new car for a year, how much will be the difference if he gets the brand new car instead of renting a car?]. Reply the answer only in one word without full sentence.\n",
      "46: Complete the sentence in one word by replacing the word in (): [Nancy can () hoop for 10 minutes.  Casey can () hoop 3 minutes less than Nancy.  Morgan can () hoop three times as long as Casey.  How long can Morgan () hoop?]. Reply the answer only in one word without full sentence.\n",
      "47: Complete the sentence in one word by replacing the word in (): [Tom decides to start running 5 days a week to lose ().  He runs 1.5 hours each day.  He runs at a speed of 8 mph.  How many miles does he run a week?]. Reply the answer only in one word without full sentence.\n",
      "48: Complete the sentence in one word by replacing the word in (): [Sarah is playing tic-tac-toe. She wins $1 for every () she wins, $0 for every () she ties, and she loses $2 for every () she loses. If she played 100 ()s where she tied 40 of them, and she lost $30, how many ()s did she win?]. Reply the answer only in one word without full sentence.\n",
      "49: Complete the sentence in one word by replacing the word in (): [In ancient China, soldiers positioned in beacon towers along the Great Wall would send smoke signals to warn of impending attacks.  Since the towers were located at 5 kilometer intervals, they could send a signal the length of the Great Wall.  If the Great () was 7300 kilometers long, and every tower had two soldiers, what was the combined number of soldiers in beacon towers on the Great Wall?]. Reply the answer only in one word without full sentence.\n",
      "50: Complete the sentence in one word by replacing the word in (): [Two months ago, Wilson had a total of $150 in his () account. Then last month, he deposited $17. A few days after, he made a withdrawal. This month, he deposited $21 so he has $16 more than what is in his account two months ago. How much did Wilson withdraw last month?]. Reply the answer only in one word without full sentence.\n",
      "51: Complete the sentence in one word by replacing the word in (): [Monica way studying for an exam. She studied for 2 hours on Wednesday and three ()s as long on Thursday. On Friday Monica studied half of the () she studied on Thursday. During the weekend (two days) Monica studied as much again as Wednesday, Thursday and Friday combined. How much () did she spend studying in total during the five days?]. Reply the answer only in one word without full sentence.\n",
      "52: Complete the sentence in one word by replacing the word in (): [Last year, the school library purchased 50 new (). This year, it purchased 3 times as many (). If the library had 100 () before it purchased new () last year, how many () are in the library now?]. Reply the answer only in one word without full sentence.\n",
      "53: Complete the sentence in one word by replacing the word in (): [John is half times younger than his father, who is 4 () older than John's mother. If John's father is 40 () old, what's the age difference between John and his mother?]. Reply the answer only in one word without full sentence.\n",
      "54: Complete the sentence in one word by replacing the word in (): [Last (), a farmer shipped 10 boxes of pomelos which had 240 pomelos in all. This (), the farmer shipped 20 boxes. How many dozens of pomelos did the farmer ship in all?]. Reply the answer only in one word without full sentence.\n",
      "55: Complete the sentence in one word by replacing the word in (): [John decides to learn how to play the piano.  He buys a piano for $500.  He then hires a () for 20 lessons at $40 per lesson but ends up getting a 25% discount.  How much did everything cost?]. Reply the answer only in one word without full sentence.\n",
      "56: Complete the sentence in one word by replacing the word in (): [Claire has 400 flowers in her garden. One hundred twenty are tulips, and the () are roses. Eighty of the roses are white, while the () are red. Each red rose is worth $0.75. How much will Claire earn if she can sell 1/2 of the total number of red roses?]. Reply the answer only in one word without full sentence.\n",
      "57: Complete the sentence in one word by replacing the word in (): [John's hair grows 1.5 inches every month.  Every time it gets to 9 inches long he cuts it down to 6 inches.  A haircut costs $45 and he gives a 20% ().  How much does he spend on haircuts a year?]. Reply the answer only in one word without full sentence.\n",
      "58: Complete the sentence in one word by replacing the word in (): [Theresa has 5 more than thrice as many () games as Julia. Julia has a third as many () games as Tory. If Tory has 6 () games, how many () games does Theresa have?]. Reply the answer only in one word without full sentence.\n",
      "59: Complete the sentence in one word by replacing the word in (): [Ayen jogs for 30 () every day during weekdays. This week on Tuesday, she jogged 5 () more and also jogged 25 () more on Friday. How many hours, in total, did Ayen jog this week?]. Reply the answer only in one word without full sentence.\n",
      "60: Complete the sentence in one word by replacing the word in (): [Ali is collecting () caps. He has 125 () caps. He has red ones and green ones. If he has 50 red caps, what percentage of caps are green?]. Reply the answer only in one word without full sentence.\n",
      "61: Complete the sentence in one word by replacing the word in (): [Denny is planning to build a modular home.  A 400 square foot Kitchen module costs $20000 and a 150 square foot bathroom module costs $12,000.  All other modules cost $100 per square foot.  If Denny plans to build a 2,000 square foot modular home containing one kitchen and two bathrooms, how much will it cost, in ()?]. Reply the answer only in one word without full sentence.\n",
      "62: Complete the sentence in one word by replacing the word in (): [James buys pistachios for $10 per can.  Each can is 5 ().  He eats 30 () of pistachios every 5 days.  How much does he spend on pistachios per week?]. Reply the answer only in one word without full sentence.\n",
      "63: Complete the sentence in one word by replacing the word in (): [Martha spends 10 minutes turning the router off and on again, six times that long on hold with Comcast, and half as much time as she spent on hold yelling at a customer service (). How much time did Martha spend on these activities total?]. Reply the answer only in one word without full sentence.\n",
      "64: Complete the sentence in one word by replacing the word in (): [Bobby needed to make some trips with his truck and had only 12 gallons of gasoline. He drives to a supermarket 5 miles away and then drives back home. Then he headed to his farm which was 6 miles away. Two miles into the journey, he turned around and drove back home to retrieve some farming tools he forgot to take earlier and drove down to the farm. If he now has exactly 2 gallons of gasoline left, at what () in miles per gallon has his truck been consuming gasoline?]. Reply the answer only in one word without full sentence.\n",
      "65: Complete the sentence in one word by replacing the word in (): [In a grocery (), the daily salary of the manager is $5 and the clerk is $2. If there are currently 2 managers and 3 clerks employed in the grocery (), how much is the total daily salary of all the employees of the grocery ()?]. Reply the answer only in one word without full sentence.\n",
      "66: Complete the sentence in one word by replacing the word in (): [Exactly two-fifths of NBA players who signed up for a test are aged between 25 and 35 years. If three-eighths of them are older than 35, and a () of 1000 players signed up, how many players are younger than 25 years?]. Reply the answer only in one word without full sentence.\n",
      "67: Complete the sentence in one word by replacing the word in (): [If you buy a dozen of (), it costs $8; but if you buy 2 dozens, it costs $14. How much will you save from buying 3 sets of 2 dozens than buying 6 sets of 1 dozen?]. Reply the answer only in one word without full sentence.\n",
      "68: Complete the sentence in one word by replacing the word in (): [Bridget counted 14 shooting stars in the night sky.  Reginald counted two fewer shooting stars than did Bridget, but Sam counted four more shooting stars than did Reginald.  How many more shooting stars did Sam count in the night sky than was the average () of shooting stars observed for the three of them?]. Reply the answer only in one word without full sentence.\n",
      "69: Complete the sentence in one word by replacing the word in (): [George and Harry want to fill a () with buckets. George can carry two buckets each round, and Harry can carry three buckets each round. If it takes 110 buckets to fill the (), how many rounds will it take to fill the ()?]. Reply the answer only in one word without full sentence.\n",
      "70: Complete the sentence in one word by replacing the word in (): [Luther made 12 pancakes for breakfast. His family has 8 (). How many more pancakes must he make for everyone to have a second pancake?]. Reply the answer only in one word without full sentence.\n",
      "71: Complete the sentence in one word by replacing the word in (): [Phantom's mom gave him $50 to buy printer-inks. At the (), he bought two black printer inks which cost $11 each, three red printer inks which cost $15 each, and two yellow printer inks which cost $13 each. Phantom found out that his money is not enough to buy all the printer inks. How much more money should he ask his mom to be able to buy the printer inks?]. Reply the answer only in one word without full sentence.\n",
      "72: Complete the sentence in one word by replacing the word in (): [Jack bought 55 apples. He wants to give 10 to his () and then equally share the remaining apples between him and his 4 friends. How many apples will each of them get?]. Reply the answer only in one word without full sentence.\n",
      "73: Complete the sentence in one word by replacing the word in (): [Amanda is figuring out how many () of grass seed she needs to buy to cover a new lot the city is turning into a park. The lot measures 120 feet by 60 feet. One section that measures 40 feet by 40 feet will be covered with concrete, and the rest needs to be covered in grass seeds. Each bag of grass seeds covers 56 square feet. How many () of grass seeds does Amanda need?]. Reply the answer only in one word without full sentence.\n",
      "74: Complete the sentence in one word by replacing the word in (): [Jake buys 2-pound () of sausages.  He buys 3 of them and they are $4 a pound.  How much does he pay?]. Reply the answer only in one word without full sentence.\n",
      "75: Complete the sentence in one word by replacing the word in (): [There are 20 students in a class. Only one-fourth of the students stayed in the classroom while the rest went to the playground. Of those who went to the playground, one-() are boys. How many girls are there on the playground from this class?]. Reply the answer only in one word without full sentence.\n",
      "76: Complete the sentence in one word by replacing the word in (): [Tammy wants to run 3500 meters per (). She knows her track at school is 50 meters around. If she wants to run the same amount each day, how many loops should she make per day?]. Reply the answer only in one word without full sentence.\n",
      "77: Complete the sentence in one word by replacing the word in (): [As a child, Bobby was able to jump () 30 times per minute. Now that he is an adult, he can jump 1 jump per second. How many more jumps than when he was a child is Bobby able to jump now that he is an adult?]. Reply the answer only in one word without full sentence.\n",
      "78: Complete the sentence in one word by replacing the word in (): [Johnny wrote an () with 150 words. Madeline wrote an () that was double in length, and Timothy wrote an () that had 30 words more than Madeline's. If one page contains 260 words, how many pages do Johnny, Madeline, and Timothy's ()s fill?]. Reply the answer only in one word without full sentence.\n",
      "79: Complete the sentence in one word by replacing the word in (): [Enid and Aaron are knitting clothes for their store. Aaron makes 10 scarves and 5 (), and Enid makes 8 (). If a scarf uses 3 balls of wool and a sweater uses 4 balls of wool, how many balls of wool did Enid and Aaron use in total?]. Reply the answer only in one word without full sentence.\n",
      "80: Complete the sentence in one word by replacing the word in (): [A trolley () picked up 10 people on his 1st stop.  On the next stop, 3 people got off and twice as many people from the 1st stop got on.  On the third stop, 18 people got off and 2 got on.  How many people are currently on the trolley?]. Reply the answer only in one word without full sentence.\n",
      "81: Complete the sentence in one word by replacing the word in (): [Mikail's birthday is tomorrow. He will be 3 times older than he was when he was three. On his birthday, his parents give him $5 for every year old he is. How much () will they give him?]. Reply the answer only in one word without full sentence.\n",
      "82: Complete the sentence in one word by replacing the word in (): [Colleen is making a batch of 48 (). She's going to add 108 chocolate chips and one-third as many M&Ms to the whole batch. What are the average number of chocolate pieces in each cookie?]. Reply the answer only in one word without full sentence.\n",
      "83: Complete the sentence in one word by replacing the word in (): [A () splits into 3 groups for their performances. The first group has 25 members, and the second group has 30 members. The third group has the remaining members of the (). If the () overall has 70 members, how many members are in the third group?]. Reply the answer only in one word without full sentence.\n",
      "84: Complete the sentence in one word by replacing the word in (): [Kantana loves chocolate. Every Saturday she goes to the candy () and buys 2 chocolates for herself and 1 for her sister. This last Saturday she picked up an additional 10 chocolates as a birthday gift for her friend Charlie. How many chocolates did Kantana end up buying for the month?]. Reply the answer only in one word without full sentence.\n",
      "85: Complete the sentence in one word by replacing the word in (): [Jazel has 3 ()s. One () is 3 centimeters long. The second () is twice as long while the third () is 1 centimeter shorter than the second (). What is the total length of Jazel's ()s when they are put together?]. Reply the answer only in one word without full sentence.\n",
      "86: Complete the sentence in one word by replacing the word in (): [Amaya is watching a movie that she finds kind of boring, so she keeps tuning out and having to rewind it to catch what she missed. She watches 35 () before she realizes she needs to rewind the movie to catch something she missed, a process that adds 5 () to her total viewing time. She watches the movie for another 45 () but has to rewind it again, adding 15 () to her total time. Finally, she watches the last 20 () uninterrupted. If she added up the duration of the film plus all the times she had to rewind and re-watch parts, how many () did it take her to watch the movie?]. Reply the answer only in one word without full sentence.\n",
      "87: Complete the sentence in one word by replacing the word in (): [Bob is building raised () for his vegetable garden. Each bed is 2 feet high, 2 feet wide, and 8 feet long. The sides are going to be built of 1-foot wide planks. If Bob buys his lumber in 8-foot-long boards, planning to cut some of them for the shorter lengths he'll need, how many 8-foot long planks will he need to construct 10 raised ()?]. Reply the answer only in one word without full sentence.\n",
      "88: Complete the sentence in one word by replacing the word in (): [Hash has nine more than half as many toys as Bill has. If Bill has 60 toys, how many total toys do the () have?]. Reply the answer only in one word without full sentence.\n",
      "89: Complete the sentence in one word by replacing the word in (): [Rafael works 10 ()s on Monday and 8 ()s on Tuesday on his delivery job. With 20 ()s left to work in the week, how much money does Rafael make if he is paid $20 per ()?]. Reply the answer only in one word without full sentence.\n",
      "90: Complete the sentence in one word by replacing the word in (): [Every day, Bob logs 10 hours of work in his office. If he works for five days a week, calculate the total () of hours he logs in a month.]. Reply the answer only in one word without full sentence.\n",
      "91: Complete the sentence in one word by replacing the word in (): [A type C school bus contains 13 () of seats, with an aisle running down the middle of the bus, splitting each row into two sections.  If the school only allowed two students to sit in each section, how many students could be seated on the bus?]. Reply the answer only in one word without full sentence.\n",
      "92: Complete the sentence in one word by replacing the word in (): [James has 3 fish ().  1 of the () has 20 fish in it and the other two have twice as many fish each as the first. How many total fish do they have?]. Reply the answer only in one word without full sentence.\n",
      "93: Complete the sentence in one word by replacing the word in (): [Jack is a soccer player. He needs to buy two pairs of socks and a pair of soccer (). Each pair of socks cost $9.50, and the () cost $92. Jack has $40. How much more money does Jack need?]. Reply the answer only in one word without full sentence.\n",
      "94: Complete the sentence in one word by replacing the word in (): [Hector purchased a () of gumballs.  He gave 4 to Todd, then he gave twice as many as he had given Todd to Alisha, and then he gave 5 less than four times as many to Bobby as he had given to Alisha.  If Hector had 6 gumballs remaining, what is the total number of gumballs that Hector purchased?]. Reply the answer only in one word without full sentence.\n",
      "95: Complete the sentence in one word by replacing the word in (): [When Doctor Lindsay works in her office, she usually sees 4 adult patients and 3 child patients every hour. If the cost for an adult's office () is $50, and the cost for a child's office () is $25, how much money, in dollars, does Doctor Lyndsay receive in a typical 8-hour day for seeing all her patients?]. Reply the answer only in one word without full sentence.\n",
      "96: Complete the sentence in one word by replacing the word in (): [Ali turned 8 () old this year, and is now 3 () older than Yusaf. If Umar is twice Yusaf’s age, how old is Umar?]. Reply the answer only in one word without full sentence.\n",
      "97: Complete the sentence in one word by replacing the word in (): [Elizabeth wants to buy the () knives from a bridal registry as a wedding gift.  The couple registered for 2 () knife sets and each set contains 4 () knives.  If Elizabeth buys both sets and they cost $80.00 per set, how much does each single () knife cost?]. Reply the answer only in one word without full sentence.\n",
      "98: Complete the sentence in one word by replacing the word in (): [Kristine has 7 more () than Dawn. If Dawn has 10 (), how many () do they have together?]. Reply the answer only in one word without full sentence.\n",
      "99: Complete the sentence in one word by replacing the word in (): [Olivia's insurance premium starts out at $50/month. It goes up 10% for every accident and $5/month for every (). If she gets in one accident and gets 3 ()s, what's her new insurance premium?]. Reply the answer only in one word without full sentence.\n"
     ]
    }
   ],
   "source": [
    "for index, row in data[:].iterrows():\n",
    "    prompt = f\"Complete the sentence in one word by replacing the word in (): [{row['masked_question']}]. Reply the answer only in one word without full sentence.\"\n",
    "    print(str(index)+\": \"+ prompt)\n",
    "    completion = openai.ChatCompletion.create(\n",
    "        model=\"gpt-3.5-turbo\",\n",
    "        messages=[\n",
    "            {\"role\": \"user\", \"content\":prompt}\n",
    "        ],\n",
    "        temperature = user_temperature,\n",
    "        max_tokens = 128\n",
    "    )\n",
    "    response = completion[\"choices\"][0][\"message\"][\"content\"].replace('\\n', ' ')\n",
    "    result[row['question']] = response"
   ]
  },
  {
   "cell_type": "code",
   "execution_count": 50,
   "metadata": {},
   "outputs": [],
   "source": [
    "acc_icl = 0\n",
    "for index, row in data.iterrows():\n",
    "    if(row['masked_word_answer'].lower()==result[row['question']].lower()):\n",
    "        acc_icl += 1"
   ]
  },
  {
   "cell_type": "code",
   "execution_count": 51,
   "metadata": {},
   "outputs": [
    {
     "name": "stdout",
     "output_type": "stream",
     "text": [
      "The accuracy of GPT-3.5 turbo to predict the missing word in the question is: 35.0%\n"
     ]
    }
   ],
   "source": [
    "print(f\"The accuracy of GPT-3.5 turbo to predict the missing word in the question is: {round(acc_icl*100.0/len(result),2)}%\")"
   ]
  },
  {
   "cell_type": "code",
   "execution_count": 52,
   "metadata": {},
   "outputs": [],
   "source": [
    "import json\n",
    "file_path = \"gpt-3.5_gsm8k.json\"\n",
    "with open(file_path, \"w\") as json_file:\n",
    "    json.dump(result, json_file)"
   ]
  }
 ],
 "metadata": {
  "kernelspec": {
   "display_name": "Python (myenv)",
   "language": "python",
   "name": "myenv"
  },
  "language_info": {
   "codemirror_mode": {
    "name": "ipython",
    "version": 3
   },
   "file_extension": ".py",
   "mimetype": "text/x-python",
   "name": "python",
   "nbconvert_exporter": "python",
   "pygments_lexer": "ipython3",
   "version": "3.11.10"
  }
 },
 "nbformat": 4,
 "nbformat_minor": 4
}
