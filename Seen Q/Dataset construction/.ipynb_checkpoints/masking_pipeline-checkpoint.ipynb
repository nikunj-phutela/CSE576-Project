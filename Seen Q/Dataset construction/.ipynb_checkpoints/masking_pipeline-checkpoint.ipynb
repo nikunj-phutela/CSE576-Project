{
 "cells": [
  {
   "cell_type": "code",
   "execution_count": 1,
   "id": "46c1fd8b-8146-41fb-953c-ae062cb9fdb5",
   "metadata": {},
   "outputs": [
    {
     "data": {
      "application/vnd.jupyter.widget-view+json": {
       "model_id": "27157b92e03d4bfd8aadd1a5d18347a7",
       "version_major": 2,
       "version_minor": 0
      },
      "text/plain": [
       "Downloading https://raw.githubusercontent.com/stanfordnlp/stanza-resources/main/resources_1.9.0.json:   0%|   …"
      ]
     },
     "metadata": {},
     "output_type": "display_data"
    },
    {
     "name": "stderr",
     "output_type": "stream",
     "text": [
      "2024-11-11 17:41:21 INFO: Downloaded file to /home/nphutela/stanza_resources/resources.json\n",
      "2024-11-11 17:41:21 INFO: Downloading default packages for language: en (English) ...\n",
      "2024-11-11 17:41:22 INFO: File exists: /home/nphutela/stanza_resources/en/default.zip\n",
      "2024-11-11 17:41:27 INFO: Finished downloading models and saved to /home/nphutela/stanza_resources\n",
      "2024-11-11 17:41:27 INFO: Checking for updates to resources.json in case models have been updated.  Note: this behavior can be turned off with download_method=None or download_method=DownloadMethod.REUSE_RESOURCES\n"
     ]
    },
    {
     "data": {
      "application/vnd.jupyter.widget-view+json": {
       "model_id": "b4ce5ae55063421fa8e610f9a95ce905",
       "version_major": 2,
       "version_minor": 0
      },
      "text/plain": [
       "Downloading https://raw.githubusercontent.com/stanfordnlp/stanza-resources/main/resources_1.9.0.json:   0%|   …"
      ]
     },
     "metadata": {},
     "output_type": "display_data"
    },
    {
     "name": "stderr",
     "output_type": "stream",
     "text": [
      "2024-11-11 17:41:27 INFO: Downloaded file to /home/nphutela/stanza_resources/resources.json\n",
      "2024-11-11 17:41:27 WARNING: Language en package default expects mwt, which has been added\n",
      "2024-11-11 17:41:27 INFO: Loading these models for language: en (English):\n",
      "===============================\n",
      "| Processor | Package         |\n",
      "-------------------------------\n",
      "| tokenize  | combined        |\n",
      "| mwt       | combined        |\n",
      "| pos       | combined_charlm |\n",
      "===============================\n",
      "\n",
      "2024-11-11 17:41:28 INFO: Using device: cuda\n",
      "2024-11-11 17:41:28 INFO: Loading: tokenize\n",
      "/home/nphutela/.conda/envs/myenv/lib/python3.11/site-packages/stanza/models/tokenization/trainer.py:82: FutureWarning: You are using `torch.load` with `weights_only=False` (the current default value), which uses the default pickle module implicitly. It is possible to construct malicious pickle data which will execute arbitrary code during unpickling (See https://github.com/pytorch/pytorch/blob/main/SECURITY.md#untrusted-models for more details). In a future release, the default value for `weights_only` will be flipped to `True`. This limits the functions that could be executed during unpickling. Arbitrary objects will no longer be allowed to be loaded via this mode unless they are explicitly allowlisted by the user via `torch.serialization.add_safe_globals`. We recommend you start setting `weights_only=True` for any use case where you don't have full control of the loaded file. Please open an issue on GitHub for any issues related to this experimental feature.\n",
      "  checkpoint = torch.load(filename, lambda storage, loc: storage)\n",
      "2024-11-11 17:41:29 INFO: Loading: mwt\n",
      "/home/nphutela/.conda/envs/myenv/lib/python3.11/site-packages/stanza/models/mwt/trainer.py:201: FutureWarning: You are using `torch.load` with `weights_only=False` (the current default value), which uses the default pickle module implicitly. It is possible to construct malicious pickle data which will execute arbitrary code during unpickling (See https://github.com/pytorch/pytorch/blob/main/SECURITY.md#untrusted-models for more details). In a future release, the default value for `weights_only` will be flipped to `True`. This limits the functions that could be executed during unpickling. Arbitrary objects will no longer be allowed to be loaded via this mode unless they are explicitly allowlisted by the user via `torch.serialization.add_safe_globals`. We recommend you start setting `weights_only=True` for any use case where you don't have full control of the loaded file. Please open an issue on GitHub for any issues related to this experimental feature.\n",
      "  checkpoint = torch.load(filename, lambda storage, loc: storage)\n",
      "2024-11-11 17:41:29 INFO: Loading: pos\n",
      "/home/nphutela/.conda/envs/myenv/lib/python3.11/site-packages/stanza/models/pos/trainer.py:139: FutureWarning: You are using `torch.load` with `weights_only=False` (the current default value), which uses the default pickle module implicitly. It is possible to construct malicious pickle data which will execute arbitrary code during unpickling (See https://github.com/pytorch/pytorch/blob/main/SECURITY.md#untrusted-models for more details). In a future release, the default value for `weights_only` will be flipped to `True`. This limits the functions that could be executed during unpickling. Arbitrary objects will no longer be allowed to be loaded via this mode unless they are explicitly allowlisted by the user via `torch.serialization.add_safe_globals`. We recommend you start setting `weights_only=True` for any use case where you don't have full control of the loaded file. Please open an issue on GitHub for any issues related to this experimental feature.\n",
      "  checkpoint = torch.load(filename, lambda storage, loc: storage)\n",
      "/home/nphutela/.conda/envs/myenv/lib/python3.11/site-packages/stanza/models/common/pretrain.py:56: FutureWarning: You are using `torch.load` with `weights_only=False` (the current default value), which uses the default pickle module implicitly. It is possible to construct malicious pickle data which will execute arbitrary code during unpickling (See https://github.com/pytorch/pytorch/blob/main/SECURITY.md#untrusted-models for more details). In a future release, the default value for `weights_only` will be flipped to `True`. This limits the functions that could be executed during unpickling. Arbitrary objects will no longer be allowed to be loaded via this mode unless they are explicitly allowlisted by the user via `torch.serialization.add_safe_globals`. We recommend you start setting `weights_only=True` for any use case where you don't have full control of the loaded file. Please open an issue on GitHub for any issues related to this experimental feature.\n",
      "  data = torch.load(self.filename, lambda storage, loc: storage)\n",
      "/home/nphutela/.conda/envs/myenv/lib/python3.11/site-packages/stanza/models/common/char_model.py:271: FutureWarning: You are using `torch.load` with `weights_only=False` (the current default value), which uses the default pickle module implicitly. It is possible to construct malicious pickle data which will execute arbitrary code during unpickling (See https://github.com/pytorch/pytorch/blob/main/SECURITY.md#untrusted-models for more details). In a future release, the default value for `weights_only` will be flipped to `True`. This limits the functions that could be executed during unpickling. Arbitrary objects will no longer be allowed to be loaded via this mode unless they are explicitly allowlisted by the user via `torch.serialization.add_safe_globals`. We recommend you start setting `weights_only=True` for any use case where you don't have full control of the loaded file. Please open an issue on GitHub for any issues related to this experimental feature.\n",
      "  state = torch.load(filename, lambda storage, loc: storage)\n",
      "2024-11-11 17:41:29 INFO: Done loading processors!\n"
     ]
    }
   ],
   "source": [
    "import pandas as pd\n",
    "import openai\n",
    "import random\n",
    "import stanza\n",
    "stanza.download('en')\n",
    "nlp = stanza.Pipeline('en', processors='tokenize,pos')"
   ]
  },
  {
   "cell_type": "code",
   "execution_count": 2,
   "id": "225be9dc-7b7b-4b3f-98c5-3f4a58542f54",
   "metadata": {},
   "outputs": [],
   "source": [
    "sentence = \"The quick brown fox jumps over the lazy dog.\"\n",
    "doc = nlp(sentence)\n",
    "\n",
    "# Create a dictionary to store POS tags\n",
    "pos_tags_dict = {word.text: word.pos for sent in doc.sentences for word in sent.words}"
   ]
  },
  {
   "cell_type": "code",
   "execution_count": 3,
   "id": "670e5681-1ae6-404b-b796-2efa6122a3dc",
   "metadata": {},
   "outputs": [],
   "source": [
    "data = pd.read_csv(\"../Data/gsm8k.csv\")\n",
    "data.drop(columns={\"Unnamed: 0\"}, inplace=True)"
   ]
  },
  {
   "cell_type": "code",
   "execution_count": 5,
   "id": "abe4279b-eb8d-47ab-a9f6-3d4ae5386915",
   "metadata": {},
   "outputs": [],
   "source": [
    "masked_question = []\n",
    "masked_word_answer = []\n",
    "for i in data['question']:\n",
    "    doc = nlp(i)\n",
    "    pos_tags_dict = {word.text: word.pos for sent in doc.sentences for word in sent.words}\n",
    "    nouns = [word for word, pos in pos_tags_dict.items() if pos == \"NOUN\"]\n",
    "    adjectives = [word for word, pos in pos_tags_dict.items() if pos == \"ADJ\"]\n",
    "    masked_word = random.choice(nouns) if nouns else random.choice(adjectives) if adjectives else None\n",
    "    if masked_word:\n",
    "        masked_word_answer.append(masked_word)\n",
    "        masked_question.append(i.replace(masked_word, \"()\"))\n",
    "    else:\n",
    "        masked_word_answer.append('')\n",
    "        masked_question.append(i)"
   ]
  },
  {
   "cell_type": "code",
   "execution_count": 6,
   "id": "21857f3c-abbe-45bb-958b-04b64b7d71f5",
   "metadata": {},
   "outputs": [],
   "source": [
    "data['masked_question'] = masked_question\n",
    "data['masked_word_answer'] = masked_word_answer"
   ]
  },
  {
   "cell_type": "code",
   "execution_count": 8,
   "id": "c48b7e92-f03b-4f85-937e-e6e76cc4cc38",
   "metadata": {},
   "outputs": [],
   "source": [
    "data.to_csv(\"../Data/masked_gsm8k.csv\")"
   ]
  }
 ],
 "metadata": {
  "kernelspec": {
   "display_name": "Python (myenv)",
   "language": "python",
   "name": "myenv"
  },
  "language_info": {
   "codemirror_mode": {
    "name": "ipython",
    "version": 3
   },
   "file_extension": ".py",
   "mimetype": "text/x-python",
   "name": "python",
   "nbconvert_exporter": "python",
   "pygments_lexer": "ipython3",
   "version": "3.11.10"
  }
 },
 "nbformat": 4,
 "nbformat_minor": 5
}
