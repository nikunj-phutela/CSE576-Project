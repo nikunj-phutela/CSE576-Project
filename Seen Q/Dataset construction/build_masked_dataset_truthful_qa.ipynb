{
 "cells": [
  {
   "cell_type": "code",
   "execution_count": null,
   "metadata": {},
   "outputs": [],
   "source": [
    "import pandas as pd\n",
    "import openai\n",
    "import random\n",
    "from stanfordcorenlp import StanfordCoreNLP"
   ]
  },
  {
   "cell_type": "code",
   "execution_count": null,
   "metadata": {},
   "outputs": [],
   "source": [
    "data = pd.read_csv(\"TruthfulQA.csv\")\n",
    "data.head(1)"
   ]
  },
  {
   "cell_type": "code",
   "execution_count": null,
   "metadata": {},
   "outputs": [],
   "source": [
    "import nltk\n",
    "from nltk.parse.corenlp import CoreNLPParser\n",
    "\n",
    "# Set up the parser\n",
    "parser = CoreNLPParser(url='http://localhost:9000',tagtype='pos')"
   ]
  },
  {
   "cell_type": "code",
   "execution_count": null,
   "metadata": {},
   "outputs": [],
   "source": [
    "# Get the POS tagging\n",
    "sentence = \"The quick brown fox jumps over the lazy dog.\"\n",
    "pos_tags = list(parser.tag(sentence.split()))\n",
    "\n",
    "print(pos_tags)"
   ]
  },
  {
   "cell_type": "code",
   "execution_count": null,
   "metadata": {},
   "outputs": [],
   "source": [
    "# pre-filtering\n",
    "less_4_words_df = data[data['Question'].apply(lambda x: len(x.split(\" \")) <= 4)]\n",
    "less_4_words_df.to_csv(\"truthfulqa_less_4_words.csv\")\n",
    "truthfulqa_lexical_error_df = data[data['Category'].str.contains('Indexical Error')]\n",
    "truthfulqa_lexical_error_df.to_csv(\"truthfulqa_lexical_error.csv\")\n"
   ]
  },
  {
   "cell_type": "code",
   "execution_count": null,
   "metadata": {},
   "outputs": [],
   "source": [
    "lex_num = 0\n",
    "for index, row in data.iterrows():\n",
    "    sentence = row['Question']\n",
    "    if 'Indexical Error'in row['Category']:\n",
    "        lex_num += 1\n",
    "        print(sentence)\n",
    "lex_num"
   ]
  },
  {
   "cell_type": "code",
   "execution_count": null,
   "metadata": {},
   "outputs": [],
   "source": [
    "result = {}\n",
    "data_list_pos_noun = []\n",
    "data_list_adj = []"
   ]
  },
  {
   "cell_type": "code",
   "execution_count": null,
   "metadata": {},
   "outputs": [],
   "source": [
    "\n",
    "for index, row in data.iterrows():\n",
    "    # Parse the sentence with stanfold pos tagger\n",
    "    sentence = row['Question']\n",
    "    if (len(sentence.split()) <= 4 or 'Indexical Error'in row['Category']):\n",
    "        continue\n",
    "    \n",
    "    pos_tags = list(parser.tag(sentence.split()))\n",
    "\n",
    "    # Extract nouns and adjectives\n",
    "    nouns = [token[0] for token in pos_tags if  token[1] == \"NNP\" or token[1] == \"NNPS\"]\n",
    "    \n",
    "    if len(nouns) != 0:\n",
    "    \n",
    "        noun = random.choice(nouns)       \n",
    "        fill_question = row['Question'].replace(noun,\"()\")\n",
    "        answer = noun\n",
    "        url = row['Source']\n",
    "        \n",
    "        tmp_dict = {\"original_question\":sentence,\"question\":fill_question,\"answer\":answer,\"url\":url}\n",
    "        data_list_pos_noun.append(tmp_dict)"
   ]
  },
  {
   "cell_type": "code",
   "execution_count": null,
   "metadata": {},
   "outputs": [],
   "source": [
    "icl_tagging = []\n",
    "for key,value in result.items():\n",
    "    filter_df = data[data['Question'] == key]\n",
    "    sentence = filter_df.iloc[0,2]\n",
    "    url = filter_df.iloc[0,-1]\n",
    "    fill_question = sentence.replace(value,\"()\")\n",
    "    tmp_dict = {\"original_question\":sentence,\"question\":fill_question,\"answer\":value,\"url\":url}\n",
    "    # print(tmp_dict)\n",
    "    icl_tagging.append(tmp_dict)\n",
    "    "
   ]
  },
  {
   "cell_type": "code",
   "execution_count": null,
   "metadata": {},
   "outputs": [],
   "source": [
    "icl_dataframe = pd.DataFrame(icl_tagging)\n",
    "icl_dataframe.to_csv(\"icl_tagging.csv\")"
   ]
  }
 ],
 "metadata": {
  "kernelspec": {
   "display_name": "Python 3",
   "language": "python",
   "name": "python3"
  },
  "language_info": {
   "codemirror_mode": {
    "name": "ipython",
    "version": 3
   },
   "file_extension": ".py",
   "mimetype": "text/x-python",
   "name": "python",
   "nbconvert_exporter": "python",
   "pygments_lexer": "ipython3",
   "version": "3.11.6"
  }
 },
 "nbformat": 4,
 "nbformat_minor": 4
}
